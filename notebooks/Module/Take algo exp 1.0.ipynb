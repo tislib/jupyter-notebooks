{
 "cells": [
  {
   "cell_type": "code",
   "execution_count": 2,
   "metadata": {},
   "outputs": [],
   "source": [
    "import pandas as pd\n",
    "import numpy as np\n",
    "import math\n",
    "import matplotlib.pyplot as plt\n",
    "%matplotlib inline \n",
    "plt.rcParams['figure.figsize'] = [15, 5]\n",
    "\n",
    "import warnings\n",
    "warnings.filterwarnings('ignore')"
   ]
  },
  {
   "cell_type": "code",
   "execution_count": 3,
   "metadata": {},
   "outputs": [],
   "source": [
    "%load_ext autoreload\n",
    "%autoreload 2\n",
    "%run '../../main.py'\n",
    "\n",
    "\n",
    "from lib.helper import Functions\n",
    "from lib.store.influxstore import InfluxStore"
   ]
  },
  {
   "cell_type": "code",
   "execution_count": 4,
   "metadata": {},
   "outputs": [
    {
     "data": {
      "text/plain": [
       "37194"
      ]
     },
     "execution_count": 4,
     "metadata": {},
     "output_type": "execute_result"
    }
   ],
   "source": [
    "dataSetOps = DataSetOps()\n",
    "\n",
    "# dataSetOps.import_data_set('/media/taleh/TIsStorage/archive/finance-data/currency/Historical/EURUSD/DAT_ASCII_EURUSD_M1_201902.csv')\n",
    "dataSetOps.import_years(2018, 2018)\n",
    "dataSetOps.prepare10Min()\n",
    "\n",
    "df = dataSetOps.df\n",
    "\n",
    "len(df)"
   ]
  },
  {
   "cell_type": "code",
   "execution_count": 5,
   "metadata": {},
   "outputs": [],
   "source": [
    "df['amp_n'] = Functions.calc_normal_dist(df['amp'], 1)\n",
    "df['diff_n'] = Functions.calc_normal_dist(df['diff'], 1)"
   ]
  },
  {
   "cell_type": "code",
   "execution_count": 5,
   "metadata": {},
   "outputs": [
    {
     "data": {
      "text/plain": [
       "113.09999999999931"
      ]
     },
     "execution_count": 5,
     "metadata": {},
     "output_type": "execute_result"
    }
   ],
   "source": [
    "df['amp'].max() * 10000"
   ]
  },
  {
   "cell_type": "code",
   "execution_count": 9,
   "metadata": {},
   "outputs": [
    {
     "data": {
      "text/plain": [
       "time\n",
       "2018-01-01 17:20:00    1.20065\n",
       "2018-01-01 17:30:00    1.20164\n",
       "2018-01-01 17:40:00    1.20149\n",
       "2018-01-01 17:50:00    1.20151\n",
       "2018-01-01 18:00:00    1.20139\n",
       "2018-01-01 18:10:00    1.20158\n",
       "2018-01-01 18:20:00    1.20138\n",
       "2018-01-01 18:30:00    1.20150\n",
       "2018-01-01 18:40:00    1.20120\n",
       "2018-01-01 18:50:00    1.20113\n",
       "2018-01-01 19:00:00    1.20117\n",
       "2018-01-01 19:10:00    1.20165\n",
       "2018-01-01 19:20:00    1.20177\n",
       "2018-01-01 19:30:00    1.20148\n",
       "2018-01-01 19:40:00    1.20134\n",
       "2018-01-01 19:50:00    1.20164\n",
       "2018-01-01 20:00:00    1.20227\n",
       "2018-01-01 20:10:00    1.20229\n",
       "2018-01-01 20:20:00    1.20230\n",
       "2018-01-01 20:30:00    1.20228\n",
       "2018-01-01 20:40:00    1.20210\n",
       "2018-01-01 20:50:00    1.20196\n",
       "2018-01-01 21:00:00    1.20162\n",
       "2018-01-01 21:10:00    1.20131\n",
       "2018-01-01 21:20:00    1.20123\n",
       "2018-01-01 21:30:00    1.20126\n",
       "2018-01-01 21:40:00    1.20116\n",
       "2018-01-01 21:50:00    1.20099\n",
       "2018-01-01 22:00:00    1.20161\n",
       "2018-01-01 22:10:00    1.20190\n",
       "                        ...   \n",
       "2018-12-31 11:50:00    1.14596\n",
       "2018-12-31 12:00:00    1.14566\n",
       "2018-12-31 12:10:00    1.14549\n",
       "2018-12-31 12:20:00    1.14540\n",
       "2018-12-31 12:30:00    1.14501\n",
       "2018-12-31 12:40:00    1.14497\n",
       "2018-12-31 12:50:00    1.14515\n",
       "2018-12-31 13:00:00    1.14549\n",
       "2018-12-31 13:10:00    1.14547\n",
       "2018-12-31 13:20:00    1.14476\n",
       "2018-12-31 13:30:00    1.14470\n",
       "2018-12-31 13:40:00    1.14469\n",
       "2018-12-31 13:50:00    1.14466\n",
       "2018-12-31 14:00:00    1.14499\n",
       "2018-12-31 14:10:00    1.14504\n",
       "2018-12-31 14:20:00    1.14548\n",
       "2018-12-31 14:30:00    1.14554\n",
       "2018-12-31 14:40:00    1.14542\n",
       "2018-12-31 14:50:00    1.14563\n",
       "2018-12-31 15:00:00    1.14597\n",
       "2018-12-31 15:10:00    1.14607\n",
       "2018-12-31 15:20:00    1.14597\n",
       "2018-12-31 15:30:00    1.14594\n",
       "2018-12-31 15:40:00    1.14601\n",
       "2018-12-31 15:50:00    1.14612\n",
       "2018-12-31 16:00:00    1.14577\n",
       "2018-12-31 16:10:00    1.14593\n",
       "2018-12-31 16:20:00    1.14623\n",
       "2018-12-31 16:30:00    1.14666\n",
       "2018-12-31 16:40:00    1.14633\n",
       "Length: 37194, dtype: float64"
      ]
     },
     "execution_count": 9,
     "metadata": {},
     "output_type": "execute_result"
    }
   ],
   "source": [
    "def take_algo_1(row):\n",
    "    return row['max']\n",
    "\n",
    "df.apply(take_algo_1, axis=1)"
   ]
  },
  {
   "cell_type": "code",
   "execution_count": null,
   "metadata": {},
   "outputs": [],
   "source": []
  },
  {
   "cell_type": "code",
   "execution_count": 11,
   "metadata": {},
   "outputs": [
    {
     "data": {
      "text/plain": [
       "37194"
      ]
     },
     "execution_count": 11,
     "metadata": {},
     "output_type": "execute_result"
    }
   ],
   "source": [
    "len(df)"
   ]
  },
  {
   "cell_type": "code",
   "execution_count": 17,
   "metadata": {},
   "outputs": [
    {
     "data": {
      "text/plain": [
       "<matplotlib.axes._subplots.AxesSubplot at 0x7fbbfae60ef0>"
      ]
     },
     "execution_count": 17,
     "metadata": {},
     "output_type": "execute_result"
    },
    {
     "data": {
      "image/png": "[encoded data removed]",
      "text/plain": [
       "<Figure size 432x288 with 1 Axes>"
      ]
     },
     "metadata": {
      "needs_background": "light"
     },
     "output_type": "display_data"
    }
   ],
   "source": [
    "df2 = df[df['amp'] < 0.0010]\n",
    "df2['amp'].hist()"
   ]
  },
  {
   "cell_type": "code",
   "execution_count": null,
   "metadata": {},
   "outputs": [],
   "source": []
  }
 ],
 "metadata": {
  "kernelspec": {
   "display_name": "Python 3",
   "language": "python",
   "name": "python3"
  },
  "language_info": {
   "codemirror_mode": {
    "name": "ipython",
    "version": 3
   },
   "file_extension": ".py",
   "mimetype": "text/x-python",
   "name": "python",
   "nbconvert_exporter": "python",
   "pygments_lexer": "ipython3",
   "version": "3.6.8"
  }
 },
 "nbformat": 4,
 "nbformat_minor": 2
}
