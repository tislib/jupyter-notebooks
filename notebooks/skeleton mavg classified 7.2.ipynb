{
 "cells": [
  {
   "cell_type": "code",
   "execution_count": 1,
   "metadata": {},
   "outputs": [
    {
     "name": "stdout",
     "output_type": "stream",
     "text": [
      "pattern prob 10.53125877443529 %\n",
      "pattern total prob 5.869386323471879 %\n",
      "370635\n"
     ]
    },
    {
     "data": {
      "image/png": "[encoded data removed]",
      "text/plain": [
       "<Figure size 1080x360 with 1 Axes>"
      ]
     },
     "metadata": {
      "needs_background": "light"
     },
     "output_type": "display_data"
    }
   ],
   "source": [
    "import pandas as pd\n",
    "import numpy as np\n",
    "import math\n",
    "import matplotlib.pyplot as plt\n",
    "%matplotlib inline \n",
    "plt.rcParams['figure.figsize'] = [15, 5]\n",
    "\n",
    "%load_ext autoreload\n",
    "%autoreload 2\n",
    "%run '../main.py'\n",
    "\n",
    "dataSetOps = DataSetOps()\n",
    "\n",
    "mul = 10000\n",
    "\n",
    "dataSetOps.import_years(2017, 2017)\n",
    "dataSetOps.df['max'] = dataSetOps.df['max'] * mul\n",
    "dataSetOps.df['min'] = dataSetOps.df['min'] * mul\n",
    "dataSetOps.df['open'] = dataSetOps.df['open'] * mul\n",
    "dataSetOps.df['price'] = dataSetOps.df['price'] * mul\n",
    "\n",
    "dataSetOps.prepare()\n",
    "\n",
    "\n",
    "df = dataSetOps.df\n",
    "\n",
    "# print(df)\n",
    "# variables\n",
    "mavglar = [30, 50, 70]\n",
    "window = 15\n",
    "spread = 1.5\n",
    "epilson = spread * mul / 10000\n",
    "\n",
    "########\n",
    "\n",
    "df['value'] = True\n",
    "for mavgl in mavglar:\n",
    "    mavgl = str(mavgl)\n",
    "    df['f_mavg' + mavgl] = df['mavg' + mavgl].shift(-window).rolling(window=50).mean()\n",
    "    df['value'] = df['value'] & (df['f_mavg' + mavgl] - df['mavg' + mavgl] > epilson)\n",
    "    #df[['price', 'mavg' + mavgl, 'mavg10', 'f_mavg' + mavgl]].head(1000).plot()\n",
    "    \n",
    "    \n",
    "df['f_price'] = df['price'].shift(-window).rolling(window=window).max()\n",
    "df['value_real'] = df['f_price'] - df['price'] > epilson\n",
    "\n",
    "#####\n",
    "\n",
    "df['value'].astype(int).hist()\n",
    "print('pattern prob', (len(df[df['value']]) / (len(df[df['value_real']]))) * 100, '%')\n",
    "print('pattern total prob', (len(df[df['value']]) / (len(df))) * 100, '%')\n",
    "print(len(df))\n",
    "\n",
    "####\n",
    "\n",
    "dfra = df[['price', 'mavg10', 'mavg20', 'mavg50', 'mavg80', 'mavg100', 'mavg1000']]\n",
    "dfval = df['value']"
   ]
  },
  {
   "cell_type": "code",
   "execution_count": 2,
   "metadata": {},
   "outputs": [],
   "source": [
    "%run '../main.py'"
   ]
  },
  {
   "cell_type": "code",
   "execution_count": 3,
   "metadata": {},
   "outputs": [
    {
     "name": "stderr",
     "output_type": "stream",
     "text": [
      "Using TensorFlow backend.\n",
      "/home/taleh/Projects/TensorTradeBase/lib/standartclassifier.py:27: UserWarning: Update your `Dense` call to the Keras 2 API: `Dense(activation=\"relu\", input_dim=7, units=16, kernel_initializer=\"uniform\")`\n",
      "  class1 = Dense(output_dim = 16, init = 'uniform', activation = 'relu', input_dim = len(self.X.columns))\n",
      "/home/taleh/Projects/TensorTradeBase/lib/standartclassifier.py:28: UserWarning: Update your `Dense` call to the Keras 2 API: `Dense(activation=\"relu\", units=16, kernel_initializer=\"uniform\")`\n",
      "  class2 = Dense(output_dim = 16, init = 'uniform', activation = 'relu')\n",
      "/home/taleh/Projects/TensorTradeBase/lib/standartclassifier.py:29: UserWarning: Update your `Dense` call to the Keras 2 API: `Dense(activation=\"relu\", units=16, kernel_initializer=\"uniform\")`\n",
      "  class3 = Dense(output_dim = 16, init = 'uniform', activation = 'relu')\n",
      "/home/taleh/Projects/TensorTradeBase/lib/standartclassifier.py:36: UserWarning: Update your `Dense` call to the Keras 2 API: `Dense(activation=\"sigmoid\", units=1, kernel_initializer=\"uniform\")`\n",
      "  self.classifier.add(Dense(output_dim = 1, init = 'uniform', activation = 'sigmoid'))\n"
     ]
    },
    {
     "name": "stdout",
     "output_type": "stream",
     "text": [
      "Epoch 1/7\n",
      "333571/333571 [==============================] - 7s 21us/step - loss: 0.0553 - mean_absolute_error: 0.1121 - acc: 0.9410\n",
      "Epoch 2/7\n",
      "333571/333571 [==============================] - 7s 21us/step - loss: 0.0467 - mean_absolute_error: 0.0933 - acc: 0.9428\n",
      "Epoch 3/7\n",
      "333571/333571 [==============================] - 7s 21us/step - loss: 0.0401 - mean_absolute_error: 0.0816 - acc: 0.9491\n",
      "Epoch 4/7\n",
      "333571/333571 [==============================] - 7s 21us/step - loss: 0.0348 - mean_absolute_error: 0.0706 - acc: 0.9547\n",
      "Epoch 5/7\n",
      "333571/333571 [==============================] - 7s 21us/step - loss: 0.0332 - mean_absolute_error: 0.0671 - acc: 0.9561\n",
      "Epoch 6/7\n",
      "333571/333571 [==============================] - 7s 21us/step - loss: 0.0323 - mean_absolute_error: 0.0649 - acc: 0.9572\n",
      "Epoch 7/7\n",
      "333571/333571 [==============================] - 7s 21us/step - loss: 0.0320 - mean_absolute_error: 0.0639 - acc: 0.9574\n",
      "classifier saved to  /tmp/mavg_classifier_958006\n"
     ]
    }
   ],
   "source": [
    "lib1 = StandartClassifier()\n",
    "lib1.init(dfra, dfval, 20, 7)\n",
    "lib1.run()"
   ]
  },
  {
   "cell_type": "code",
   "execution_count": 16,
   "metadata": {},
   "outputs": [
    {
     "name": "stdout",
     "output_type": "stream",
     "text": [
      "begin analysing\n",
      "confusion_matrix: [[34904    83]\n",
      " [ 1649   428]]\n",
      "class_accuracy => accuracy:  0.6018470661342966 risk:  0.162426614481409\n",
      "optimistic_accuracy => risk:  0.05 min pass point:  0.8533698\n",
      "AxesSubplot(0.125,0.125;0.775x0.755)\n"
     ]
    },
    {
     "data": {
      "image/png": "[encoded data removed]",
      "text/plain": [
       "<Figure size 432x288 with 1 Axes>"
      ]
     },
     "metadata": {
      "needs_background": "light"
     },
     "output_type": "display_data"
    }
   ],
   "source": [
    "class StandartAnalyser:\n",
    "    def init(self, classifier):\n",
    "        self.classifier = classifier\n",
    "    \n",
    "    def analyse(self, X, y_test, name):\n",
    "        print('begin analysing')\n",
    "        # Creating the Confusion Matrix\n",
    "        from sklearn.metrics import confusion_matrix\n",
    "        from lib.helper import AccuracyCalculator\n",
    "        y_pred = self.classifier.predict(X)\n",
    "        cm = confusion_matrix(y_test, (y_pred > 0.8))\n",
    "        print('confusion_matrix:', cm)\n",
    "        \n",
    "        %matplotlib inline \n",
    "        \n",
    "        AccuracyCalculator.class_accuracy(cm)\n",
    "        AccuracyCalculator.optimistic_accuracy(y_pred[:,0], y_test, 100)\n",
    "        risk_hist_df = AccuracyCalculator.risk_hist(y_pred[:,0], y_test)\n",
    "        \n",
    "        print((1-risk_hist_df.risk).plot())\n",
    "        #### \n",
    "\n",
    "#         dfx = df[df['value']]\n",
    "#         p_f = len(dfx[dfx['value_real']]) / len(dfx)\n",
    "#         p_r = cm[1,1] / (cm[1,1] + cm[0,1])\n",
    "#         print('real prob', p_f , p_r, p_f * p_r)\n",
    "        \n",
    "    def analyse2(self):\n",
    "\n",
    "        ###\n",
    "\n",
    "        y_all_pred = self.predict(self.X)\n",
    "        y_f_price_real = df['value_real']\n",
    "        cm = confusion_matrix(y_f_price_real, (y_all_pred > 0.8))\n",
    "\n",
    "        AccuracyCalculator.class_accuracy(cm)\n",
    "        AccuracyCalculator.optimistic_accuracy(y_all_pred[:,0], y_f_price_real, 100)\n",
    "        risk_hist_df = AccuracyCalculator.risk_hist(y_all_pred[:,0], y_f_price_real)\n",
    "\n",
    "        print(cm)\n",
    "\n",
    "        print((1-risk_hist_df.risk).plot())\n",
    "\n",
    "        ####\n",
    "\n",
    "        dfr = df[df['value']]\n",
    "        print(dfr['value_real'].astype(int).hist())\n",
    "        print(len(dfr[dfr['value_real']]) / (len(dfr)))\n",
    "        print(len(dfr['value_real']))\n",
    "        \n",
    "analyser1 = StandartAnalyser()\n",
    "analyser1.init(lib1)\n",
    "analyser1.analyse(lib1.X_test, lib1.y_test, 'a1')"
   ]
  },
  {
   "cell_type": "code",
   "execution_count": 15,
   "metadata": {},
   "outputs": [
    {
     "data": {
      "text/plain": [
       "array([[0.0025452 ],\n",
       "       [0.0008906 ],\n",
       "       [0.02112046],\n",
       "       ...,\n",
       "       [0.21862026],\n",
       "       [0.00039833],\n",
       "       [0.0005772 ]], dtype=float32)"
      ]
     },
     "execution_count": 15,
     "metadata": {},
     "output_type": "execute_result"
    }
   ],
   "source": [
    "lib1.predict(lib1.X_test)"
   ]
  },
  {
   "cell_type": "code",
   "execution_count": null,
   "metadata": {},
   "outputs": [],
   "source": []
  },
  {
   "cell_type": "code",
   "execution_count": null,
   "metadata": {},
   "outputs": [],
   "source": []
  },
  {
   "cell_type": "code",
   "execution_count": null,
   "metadata": {},
   "outputs": [],
   "source": []
  }
 ],
 "metadata": {
  "kernelspec": {
   "display_name": "Python 3",
   "language": "python",
   "name": "python3"
  },
  "language_info": {
   "codemirror_mode": {
    "name": "ipython",
    "version": 3
   },
   "file_extension": ".py",
   "mimetype": "text/x-python",
   "name": "python",
   "nbconvert_exporter": "python",
   "pygments_lexer": "ipython3",
   "version": "3.6.8"
  }
 },
 "nbformat": 4,
 "nbformat_minor": 2
}
