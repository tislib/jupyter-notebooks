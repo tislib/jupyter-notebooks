{
 "cells": [
  {
   "cell_type": "code",
   "execution_count": 3,
   "metadata": {},
   "outputs": [
    {
     "name": "stdout",
     "output_type": "stream",
     "text": [
      "The autoreload extension is already loaded. To reload it, use:\n",
      "  %reload_ext autoreload\n"
     ]
    },
    {
     "name": "stderr",
     "output_type": "stream",
     "text": [
      "Using TensorFlow backend.\n"
     ]
    },
    {
     "ename": "ModuleNotFoundError",
     "evalue": "No module named 'lib.classifier.standartclassifier'; 'lib.classifier' is not a package",
     "output_type": "error",
     "traceback": [
      "\u001b[0;31m---------------------------------------------------------------------------\u001b[0m",
      "\u001b[0;31mModuleNotFoundError\u001b[0m                       Traceback (most recent call last)",
      "\u001b[0;32m~/Projects/TensorTradeBase/main.py\u001b[0m in \u001b[0;36m<module>\u001b[0;34m\u001b[0m\n\u001b[1;32m      1\u001b[0m \u001b[0;32mfrom\u001b[0m \u001b[0mlib\u001b[0m\u001b[0;34m.\u001b[0m\u001b[0mfiles\u001b[0m \u001b[0;32mimport\u001b[0m \u001b[0mhistdata\u001b[0m\u001b[0;34m\u001b[0m\u001b[0;34m\u001b[0m\u001b[0m\n\u001b[1;32m      2\u001b[0m \u001b[0;32mfrom\u001b[0m \u001b[0mlib\u001b[0m\u001b[0;34m.\u001b[0m\u001b[0mdataset\u001b[0m \u001b[0;32mimport\u001b[0m \u001b[0mDataSetOps\u001b[0m\u001b[0;34m\u001b[0m\u001b[0;34m\u001b[0m\u001b[0m\n\u001b[0;32m----> 3\u001b[0;31m \u001b[0;32mfrom\u001b[0m \u001b[0mlib\u001b[0m\u001b[0;34m.\u001b[0m\u001b[0mclassifier\u001b[0m\u001b[0;34m.\u001b[0m\u001b[0mstandartclassifier\u001b[0m \u001b[0;32mimport\u001b[0m \u001b[0mStandartClassifier\u001b[0m\u001b[0;34m\u001b[0m\u001b[0;34m\u001b[0m\u001b[0m\n\u001b[0m",
      "\u001b[0;31mModuleNotFoundError\u001b[0m: No module named 'lib.classifier.standartclassifier'; 'lib.classifier' is not a package"
     ]
    },
    {
     "name": "stdout",
     "output_type": "stream",
     "text": [
      "pattern prob 10.53125877443529 %\n",
      "pattern total prob 5.869386323471879 %\n",
      "370635\n"
     ]
    },
    {
     "data": {
      "image/png": "[encoded data removed]",
      "text/plain": [
       "<Figure size 1080x360 with 1 Axes>"
      ]
     },
     "metadata": {
      "needs_background": "light"
     },
     "output_type": "display_data"
    }
   ],
   "source": [
    "import pandas as pd\n",
    "import numpy as np\n",
    "import math\n",
    "import matplotlib.pyplot as plt\n",
    "%matplotlib inline \n",
    "plt.rcParams['figure.figsize'] = [15, 5]\n",
    "\n",
    "%load_ext autoreload\n",
    "%autoreload 2\n",
    "%run '../main.py'\n",
    "\n",
    "dataSetOps = DataSetOps()\n",
    "\n",
    "mul = 10000\n",
    "\n",
    "dataSetOps.import_years(2017, 2017)\n",
    "dataSetOps.df['max'] = dataSetOps.df['max'] * mul\n",
    "dataSetOps.df['min'] = dataSetOps.df['min'] * mul\n",
    "dataSetOps.df['open'] = dataSetOps.df['open'] * mul\n",
    "dataSetOps.df['price'] = dataSetOps.df['price'] * mul\n",
    "\n",
    "dataSetOps.prepare()\n",
    "\n",
    "\n",
    "df = dataSetOps.df\n",
    "\n",
    "# print(df)\n",
    "# variables\n",
    "mavglar = [30, 50, 70]\n",
    "window = 15\n",
    "spread = 1.5\n",
    "epilson = spread * mul / 10000\n",
    "\n",
    "########\n",
    "\n",
    "df['value'] = True\n",
    "for mavgl in mavglar:\n",
    "    mavgl = str(mavgl)\n",
    "    df['f_mavg' + mavgl] = df['mavg' + mavgl].shift(-window).rolling(window=50).mean()\n",
    "    df['value'] = df['value'] & (df['f_mavg' + mavgl] - df['mavg' + mavgl] > epilson)\n",
    "    #df[['price', 'mavg' + mavgl, 'mavg10', 'f_mavg' + mavgl]].head(1000).plot()\n",
    "    \n",
    "    \n",
    "df['f_price'] = df['price'].shift(-window).rolling(window=window).max()\n",
    "df['value_real'] = df['f_price'] - df['price'] > epilson\n",
    "\n",
    "#####\n",
    "\n",
    "df['value'].astype(int).hist()\n",
    "print('pattern prob', (len(df[df['value']]) / (len(df[df['value_real']]))) * 100, '%')\n",
    "print('pattern total prob', (len(df[df['value']]) / (len(df))) * 100, '%')\n",
    "print(len(df))\n",
    "\n",
    "####\n",
    "\n",
    "dfra = df[['price', 'mavg10', 'mavg20', 'mavg50', 'mavg80', 'mavg100', 'mavg1000']]\n",
    "dfval = df['value']"
   ]
  },
  {
   "cell_type": "code",
   "execution_count": 7,
   "metadata": {},
   "outputs": [],
   "source": [
    "%run '../main.py'"
   ]
  },
  {
   "cell_type": "code",
   "execution_count": 8,
   "metadata": {},
   "outputs": [
    {
     "name": "stderr",
     "output_type": "stream",
     "text": [
      "/home/taleh/Projects/TensorTradeBase/lib/standartclassifier.py:27: UserWarning: Update your `Dense` call to the Keras 2 API: `Dense(activation=\"relu\", input_dim=7, units=16, kernel_initializer=\"uniform\")`\n",
      "  class1 = Dense(output_dim = 16, init = 'uniform', activation = 'relu', input_dim = len(self.X.columns))\n",
      "/home/taleh/Projects/TensorTradeBase/lib/standartclassifier.py:28: UserWarning: Update your `Dense` call to the Keras 2 API: `Dense(activation=\"relu\", units=16, kernel_initializer=\"uniform\")`\n",
      "  class2 = Dense(output_dim = 16, init = 'uniform', activation = 'relu')\n",
      "/home/taleh/Projects/TensorTradeBase/lib/standartclassifier.py:29: UserWarning: Update your `Dense` call to the Keras 2 API: `Dense(activation=\"relu\", units=16, kernel_initializer=\"uniform\")`\n",
      "  class3 = Dense(output_dim = 16, init = 'uniform', activation = 'relu')\n",
      "/home/taleh/Projects/TensorTradeBase/lib/standartclassifier.py:36: UserWarning: Update your `Dense` call to the Keras 2 API: `Dense(activation=\"sigmoid\", units=1, kernel_initializer=\"uniform\")`\n",
      "  self.classifier.add(Dense(output_dim = 1, init = 'uniform', activation = 'sigmoid'))\n"
     ]
    },
    {
     "name": "stdout",
     "output_type": "stream",
     "text": [
      "Epoch 1/7\n",
      "333571/333571 [==============================] - 7s 22us/step - loss: 0.0543 - mean_absolute_error: 0.1094 - acc: 0.9414\n",
      "Epoch 2/7\n",
      "333571/333571 [==============================] - 7s 21us/step - loss: 0.0460 - mean_absolute_error: 0.0913 - acc: 0.9436\n",
      "Epoch 3/7\n",
      "333571/333571 [==============================] - 7s 21us/step - loss: 0.0391 - mean_absolute_error: 0.0784 - acc: 0.9505\n",
      "Epoch 4/7\n",
      "333571/333571 [==============================] - 7s 21us/step - loss: 0.0355 - mean_absolute_error: 0.0709 - acc: 0.9542\n",
      "Epoch 5/7\n",
      "333571/333571 [==============================] - 7s 21us/step - loss: 0.0343 - mean_absolute_error: 0.0684 - acc: 0.9554\n",
      "Epoch 6/7\n",
      "333571/333571 [==============================] - 7s 21us/step - loss: 0.0334 - mean_absolute_error: 0.0665 - acc: 0.9563\n",
      "Epoch 7/7\n",
      "333571/333571 [==============================] - 7s 21us/step - loss: 0.0331 - mean_absolute_error: 0.0660 - acc: 0.9565\n",
      "classifier saved to  /tmp/mavg_classifier_646159\n"
     ]
    }
   ],
   "source": [
    "lib1 = StandartClassifier()\n",
    "lib1.init(dfra, dfval, 20, 7)\n",
    "lib1.run()"
   ]
  },
  {
   "cell_type": "code",
   "execution_count": 12,
   "metadata": {},
   "outputs": [
    {
     "name": "stdout",
     "output_type": "stream",
     "text": [
      "begin analysing\n",
      "confusion_matrix: [[348881      0]\n",
      " [ 21754      0]]\n",
      "class_accuracy => accuracy:  0.5 risk:  1\n",
      "optimistic_accuracy => risk:  1.0 min pass point:  0.0\n",
      "AxesSubplot(0.125,0.125;0.775x0.755)\n"
     ]
    },
    {
     "data": {
      "image/png": "[encoded data removed]",
      "text/plain": [
       "<Figure size 432x288 with 1 Axes>"
      ]
     },
     "metadata": {
      "needs_background": "light"
     },
     "output_type": "display_data"
    }
   ],
   "source": [
    "class StandartAnalyser:\n",
    "    def init(self, classifier):\n",
    "        self.classifier = classifier\n",
    "    \n",
    "    def analyse(self, X, y_test, name):\n",
    "        print('begin analysing')\n",
    "        # Creating the Confusion Matrix\n",
    "        from sklearn.metrics import confusion_matrix\n",
    "        from lib.helper import AccuracyCalculator\n",
    "        y_pred = self.classifier.predict(X)\n",
    "        cm = confusion_matrix(y_test, (y_pred > 0.8))\n",
    "        print('confusion_matrix:', cm)\n",
    "        \n",
    "        %matplotlib inline \n",
    "        \n",
    "        AccuracyCalculator.class_accuracy(cm)\n",
    "        AccuracyCalculator.optimistic_accuracy(y_pred[:,0], y_test, 100)\n",
    "        risk_hist_df = AccuracyCalculator.risk_hist(y_pred[:,0], y_test)\n",
    "        \n",
    "        print((1-risk_hist_df.risk).plot())\n",
    "        #### \n",
    "\n",
    "#         dfx = df[df['value']]\n",
    "#         p_f = len(dfx[dfx['value_real']]) / len(dfx)\n",
    "#         p_r = cm[1,1] / (cm[1,1] + cm[0,1])\n",
    "#         print('real prob', p_f , p_r, p_f * p_r)\n",
    "        \n",
    "    def analyse2(self):\n",
    "\n",
    "        ###\n",
    "\n",
    "        y_all_pred = self.predict(self.X)\n",
    "        y_f_price_real = df['value_real']\n",
    "        cm = confusion_matrix(y_f_price_real, (y_all_pred > 0.8))\n",
    "\n",
    "        AccuracyCalculator.class_accuracy(cm)\n",
    "        AccuracyCalculator.optimistic_accuracy(y_all_pred[:,0], y_f_price_real, 100)\n",
    "        risk_hist_df = AccuracyCalculator.risk_hist(y_all_pred[:,0], y_f_price_real)\n",
    "\n",
    "        print(cm)\n",
    "\n",
    "        print((1-risk_hist_df.risk).plot())\n",
    "\n",
    "        ####\n",
    "\n",
    "        dfr = df[df['value']]\n",
    "        print(dfr['value_real'].astype(int).hist())\n",
    "        print(len(dfr[dfr['value_real']]) / (len(dfr)))\n",
    "        print(len(dfr['value_real']))\n",
    "        \n",
    "analyser1 = StandartAnalyser()\n",
    "analyser1.init(lib1)\n",
    "analyser1.analyse(dfra, dfval, 'a1')"
   ]
  },
  {
   "cell_type": "code",
   "execution_count": null,
   "metadata": {},
   "outputs": [],
   "source": []
  },
  {
   "cell_type": "code",
   "execution_count": null,
   "metadata": {},
   "outputs": [],
   "source": []
  }
 ],
 "metadata": {
  "kernelspec": {
   "display_name": "Python 3",
   "language": "python",
   "name": "python3"
  },
  "language_info": {
   "codemirror_mode": {
    "name": "ipython",
    "version": 3
   },
   "file_extension": ".py",
   "mimetype": "text/x-python",
   "name": "python",
   "nbconvert_exporter": "python",
   "pygments_lexer": "ipython3",
   "version": "3.6.8"
  }
 },
 "nbformat": 4,
 "nbformat_minor": 2
}
