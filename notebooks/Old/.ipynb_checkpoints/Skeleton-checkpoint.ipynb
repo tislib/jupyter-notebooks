{
 "cells": [
  {
   "cell_type": "code",
   "execution_count": 1,
   "metadata": {},
   "outputs": [],
   "source": [
    "import pandas as pd\n",
    "import numpy as np\n",
    "import math\n",
    "import matplotlib.pyplot as plt\n",
    "%matplotlib inline "
   ]
  },
  {
   "cell_type": "code",
   "execution_count": 2,
   "metadata": {},
   "outputs": [],
   "source": [
    "%load_ext autoreload\n",
    "%autoreload 2\n",
    "%run '../main.py'"
   ]
  },
  {
   "cell_type": "code",
   "execution_count": 3,
   "metadata": {},
   "outputs": [],
   "source": [
    "dataSetOps = DataSetOps()\n",
    "\n",
    "dataSetOps.import_years(2014, 2017)\n",
    "\n",
    "dataSetOps.prepare()\n",
    "dataSetOps.prepare2()\n",
    "\n",
    "df = dataSetOps.df"
   ]
  },
  {
   "cell_type": "code",
   "execution_count": 4,
   "metadata": {},
   "outputs": [
    {
     "data": {
      "text/html": [
       "<div>\n",
       "<style scoped>\n",
       "    .dataframe tbody tr th:only-of-type {\n",
       "        vertical-align: middle;\n",
       "    }\n",
       "\n",
       "    .dataframe tbody tr th {\n",
       "        vertical-align: top;\n",
       "    }\n",
       "\n",
       "    .dataframe thead th {\n",
       "        text-align: right;\n",
       "    }\n",
       "</style>\n",
       "<table border=\"1\" class=\"dataframe\">\n",
       "  <thead>\n",
       "    <tr style=\"text-align: right;\">\n",
       "      <th></th>\n",
       "      <th>date</th>\n",
       "      <th>open</th>\n",
       "      <th>max</th>\n",
       "      <th>min</th>\n",
       "      <th>close</th>\n",
       "      <th>price</th>\n",
       "      <th>diff</th>\n",
       "      <th>value_d</th>\n",
       "      <th>mavg10</th>\n",
       "      <th>mavg20</th>\n",
       "      <th>...</th>\n",
       "      <th>val_past_60</th>\n",
       "      <th>val_past_61</th>\n",
       "      <th>val_past_62</th>\n",
       "      <th>val_past_63</th>\n",
       "      <th>has_down_v</th>\n",
       "      <th>has_up_v</th>\n",
       "      <th>has_down</th>\n",
       "      <th>has_up</th>\n",
       "      <th>has_not_up</th>\n",
       "      <th>value_nr</th>\n",
       "    </tr>\n",
       "  </thead>\n",
       "  <tbody>\n",
       "    <tr>\n",
       "      <th>999</th>\n",
       "      <td>20140102 100700</td>\n",
       "      <td>1.36572</td>\n",
       "      <td>1.36584</td>\n",
       "      <td>1.36554</td>\n",
       "      <td>1.36554</td>\n",
       "      <td>1.36554</td>\n",
       "      <td>-0.00003</td>\n",
       "      <td>-0.3</td>\n",
       "      <td>6.71</td>\n",
       "      <td>6.695</td>\n",
       "      <td>...</td>\n",
       "      <td>-1.2</td>\n",
       "      <td>-1.8</td>\n",
       "      <td>0.5</td>\n",
       "      <td>3.2</td>\n",
       "      <td>NaN</td>\n",
       "      <td>NaN</td>\n",
       "      <td>False</td>\n",
       "      <td>False</td>\n",
       "      <td>False</td>\n",
       "      <td>False</td>\n",
       "    </tr>\n",
       "    <tr>\n",
       "      <th>1000</th>\n",
       "      <td>20140102 100800</td>\n",
       "      <td>1.36550</td>\n",
       "      <td>1.36555</td>\n",
       "      <td>1.36522</td>\n",
       "      <td>1.36555</td>\n",
       "      <td>1.36555</td>\n",
       "      <td>-0.00020</td>\n",
       "      <td>-2.0</td>\n",
       "      <td>6.11</td>\n",
       "      <td>6.430</td>\n",
       "      <td>...</td>\n",
       "      <td>-0.8</td>\n",
       "      <td>-1.2</td>\n",
       "      <td>-1.8</td>\n",
       "      <td>0.5</td>\n",
       "      <td>NaN</td>\n",
       "      <td>NaN</td>\n",
       "      <td>False</td>\n",
       "      <td>False</td>\n",
       "      <td>False</td>\n",
       "      <td>False</td>\n",
       "    </tr>\n",
       "    <tr>\n",
       "      <th>1001</th>\n",
       "      <td>20140102 100900</td>\n",
       "      <td>1.36554</td>\n",
       "      <td>1.36556</td>\n",
       "      <td>1.36532</td>\n",
       "      <td>1.36535</td>\n",
       "      <td>1.36535</td>\n",
       "      <td>0.00001</td>\n",
       "      <td>0.1</td>\n",
       "      <td>3.27</td>\n",
       "      <td>4.055</td>\n",
       "      <td>...</td>\n",
       "      <td>1.9</td>\n",
       "      <td>-0.8</td>\n",
       "      <td>-1.2</td>\n",
       "      <td>-1.8</td>\n",
       "      <td>NaN</td>\n",
       "      <td>NaN</td>\n",
       "      <td>False</td>\n",
       "      <td>False</td>\n",
       "      <td>False</td>\n",
       "      <td>False</td>\n",
       "    </tr>\n",
       "    <tr>\n",
       "      <th>1002</th>\n",
       "      <td>20140102 101000</td>\n",
       "      <td>1.36536</td>\n",
       "      <td>1.36575</td>\n",
       "      <td>1.36524</td>\n",
       "      <td>1.36575</td>\n",
       "      <td>1.36575</td>\n",
       "      <td>-0.00020</td>\n",
       "      <td>-2.0</td>\n",
       "      <td>5.41</td>\n",
       "      <td>7.500</td>\n",
       "      <td>...</td>\n",
       "      <td>3.1</td>\n",
       "      <td>1.9</td>\n",
       "      <td>-0.8</td>\n",
       "      <td>-1.2</td>\n",
       "      <td>NaN</td>\n",
       "      <td>NaN</td>\n",
       "      <td>False</td>\n",
       "      <td>False</td>\n",
       "      <td>False</td>\n",
       "      <td>False</td>\n",
       "    </tr>\n",
       "    <tr>\n",
       "      <th>1003</th>\n",
       "      <td>20140102 101100</td>\n",
       "      <td>1.36576</td>\n",
       "      <td>1.36576</td>\n",
       "      <td>1.36525</td>\n",
       "      <td>1.36532</td>\n",
       "      <td>1.36532</td>\n",
       "      <td>0.00040</td>\n",
       "      <td>4.0</td>\n",
       "      <td>-0.05</td>\n",
       "      <td>3.025</td>\n",
       "      <td>...</td>\n",
       "      <td>1.3</td>\n",
       "      <td>3.1</td>\n",
       "      <td>1.9</td>\n",
       "      <td>-0.8</td>\n",
       "      <td>NaN</td>\n",
       "      <td>NaN</td>\n",
       "      <td>False</td>\n",
       "      <td>False</td>\n",
       "      <td>False</td>\n",
       "      <td>False</td>\n",
       "    </tr>\n",
       "  </tbody>\n",
       "</table>\n",
       "<p>5 rows × 81 columns</p>\n",
       "</div>"
      ],
      "text/plain": [
       "                 date     open      max      min    close    price     diff  \\\n",
       "999   20140102 100700  1.36572  1.36584  1.36554  1.36554  1.36554 -0.00003   \n",
       "1000  20140102 100800  1.36550  1.36555  1.36522  1.36555  1.36555 -0.00020   \n",
       "1001  20140102 100900  1.36554  1.36556  1.36532  1.36535  1.36535  0.00001   \n",
       "1002  20140102 101000  1.36536  1.36575  1.36524  1.36575  1.36575 -0.00020   \n",
       "1003  20140102 101100  1.36576  1.36576  1.36525  1.36532  1.36532  0.00040   \n",
       "\n",
       "      value_d  mavg10  mavg20    ...     val_past_60  val_past_61  \\\n",
       "999      -0.3    6.71   6.695    ...            -1.2         -1.8   \n",
       "1000     -2.0    6.11   6.430    ...            -0.8         -1.2   \n",
       "1001      0.1    3.27   4.055    ...             1.9         -0.8   \n",
       "1002     -2.0    5.41   7.500    ...             3.1          1.9   \n",
       "1003      4.0   -0.05   3.025    ...             1.3          3.1   \n",
       "\n",
       "      val_past_62  val_past_63  has_down_v  has_up_v  has_down  has_up  \\\n",
       "999           0.5          3.2         NaN       NaN     False   False   \n",
       "1000         -1.8          0.5         NaN       NaN     False   False   \n",
       "1001         -1.2         -1.8         NaN       NaN     False   False   \n",
       "1002         -0.8         -1.2         NaN       NaN     False   False   \n",
       "1003          1.9         -0.8         NaN       NaN     False   False   \n",
       "\n",
       "      has_not_up  value_nr  \n",
       "999        False     False  \n",
       "1000       False     False  \n",
       "1001       False     False  \n",
       "1002       False     False  \n",
       "1003       False     False  \n",
       "\n",
       "[5 rows x 81 columns]"
      ]
     },
     "execution_count": 4,
     "metadata": {},
     "output_type": "execute_result"
    }
   ],
   "source": [
    "df.head()"
   ]
  },
  {
   "cell_type": "code",
   "execution_count": 5,
   "metadata": {},
   "outputs": [
    {
     "data": {
      "text/plain": [
       "<matplotlib.axes._subplots.AxesSubplot at 0x7f045c33c978>"
      ]
     },
     "execution_count": 5,
     "metadata": {},
     "output_type": "execute_result"
    },
    {
     "data": {
      "image/png": "[encoded data removed]",
      "text/plain": [
       "<Figure size 432x288 with 1 Axes>"
      ]
     },
     "metadata": {
      "needs_background": "light"
     },
     "output_type": "display_data"
    }
   ],
   "source": [
    "df.value_nr.astype(int).hist()"
   ]
  },
  {
   "cell_type": "code",
   "execution_count": 6,
   "metadata": {},
   "outputs": [],
   "source": [
    "X = df[['value_d', 'mavg10', 'mavg20', 'mavg100', 'mavg1000']]\n",
    "Y = df['value_nr']\n",
    "\n",
    "from sklearn.model_selection import train_test_split\n",
    "X_train, X_test, y_train, y_test = train_test_split(X, Y, test_size = 0.2)\n",
    "\n",
    "from sklearn.preprocessing import StandardScaler\n",
    "sc = StandardScaler()\n",
    "X_train = sc.fit_transform(X_train)\n",
    "X_test = sc.transform(X_test)"
   ]
  },
  {
   "cell_type": "code",
   "execution_count": 7,
   "metadata": {},
   "outputs": [
    {
     "name": "stderr",
     "output_type": "stream",
     "text": [
      "Using TensorFlow backend.\n",
      "/home/taleh/anaconda3/lib/python3.6/site-packages/ipykernel_launcher.py:10: UserWarning: Update your `Dense` call to the Keras 2 API: `Dense(activation=\"relu\", input_dim=5, units=64, kernel_initializer=\"uniform\")`\n",
      "  # Remove the CWD from sys.path while we load stuff.\n",
      "/home/taleh/anaconda3/lib/python3.6/site-packages/ipykernel_launcher.py:12: UserWarning: Update your `Dense` call to the Keras 2 API: `Dense(activation=\"relu\", units=64, kernel_initializer=\"uniform\")`\n",
      "  if sys.path[0] == '':\n",
      "/home/taleh/anaconda3/lib/python3.6/site-packages/ipykernel_launcher.py:13: UserWarning: Update your `Dense` call to the Keras 2 API: `Dense(activation=\"relu\", units=64, kernel_initializer=\"uniform\")`\n",
      "  del sys.path[0]\n",
      "/home/taleh/anaconda3/lib/python3.6/site-packages/ipykernel_launcher.py:15: UserWarning: Update your `Dense` call to the Keras 2 API: `Dense(activation=\"sigmoid\", units=1, kernel_initializer=\"uniform\")`\n",
      "  from ipykernel import kernelapp as app\n"
     ]
    }
   ],
   "source": [
    "# Importing the Keras libraries and packages\n",
    "import keras\n",
    "from keras.models import Sequential\n",
    "from keras.layers import Dense\n",
    "\n",
    "#Initializing Neural Network\n",
    "classifier = Sequential()\n",
    "\n",
    "# Adding the input layer and the first hidden layer\n",
    "classifier.add(Dense(output_dim = 64, init = 'uniform', activation = 'relu', input_dim = 5))\n",
    "# Adding the second hidden layer\n",
    "classifier.add(Dense(output_dim = 64, init = 'uniform', activation = 'relu'))\n",
    "classifier.add(Dense(output_dim = 64, init = 'uniform', activation = 'relu'))\n",
    "# Adding the output layer\n",
    "classifier.add(Dense(output_dim = 1, init = 'uniform', activation = 'sigmoid'))\n",
    "\n",
    "# Compiling Neural Network\n",
    "from keras import metrics\n",
    "metric_names = [metrics.mae]\n",
    "classifier.compile(optimizer='adam', loss = 'mean_squared_error', metrics=metric_names)"
   ]
  },
  {
   "cell_type": "code",
   "execution_count": 8,
   "metadata": {},
   "outputs": [
    {
     "name": "stdout",
     "output_type": "stream",
     "text": [
      "Epoch 1/3\n",
      "1185442/1185442 [==============================] - 51s 43us/step - loss: 0.2123 - mean_absolute_error: 0.4242\n",
      "Epoch 2/3\n",
      "1185442/1185442 [==============================] - 51s 43us/step - loss: 0.2118 - mean_absolute_error: 0.4234\n",
      "Epoch 3/3\n",
      "1185442/1185442 [==============================] - 51s 43us/step - loss: 0.2118 - mean_absolute_error: 0.4232\n"
     ]
    },
    {
     "data": {
      "text/plain": [
       "<keras.callbacks.History at 0x7f045c22a5f8>"
      ]
     },
     "execution_count": 8,
     "metadata": {},
     "output_type": "execute_result"
    }
   ],
   "source": [
    "# Fitting our model \n",
    "classifier.fit(X_train, y_train, batch_size = 5, epochs = 3)"
   ]
  },
  {
   "cell_type": "code",
   "execution_count": 9,
   "metadata": {},
   "outputs": [],
   "source": [
    "# Predicting the Test set results\n",
    "y_pred = classifier.predict(X_test)\n",
    "y_pred = (y_pred > 0.3)"
   ]
  },
  {
   "cell_type": "code",
   "execution_count": 10,
   "metadata": {},
   "outputs": [],
   "source": [
    "# Creating the Confusion Matrix\n",
    "from sklearn.metrics import confusion_matrix\n",
    "cm = confusion_matrix(y_test, y_pred)"
   ]
  },
  {
   "cell_type": "code",
   "execution_count": 11,
   "metadata": {},
   "outputs": [
    {
     "name": "stdout",
     "output_type": "stream",
     "text": [
      "class_accuracy => accuracy:  0.5669740915955903 risk:  0.6355826570880334\n",
      "optimistic_accuracy => risk:  0.5 min pass point:  0.44341534\n"
     ]
    }
   ],
   "source": [
    "from lib.helper import AccuracyCalculator\n",
    "\n",
    "AccuracyCalculator.class_accuracy(cm)\n",
    "AccuracyCalculator.optimistic_accuracy(classifier.predict(X_test)[:,0], y_test, 100)\n",
    "risk_hist_df = AccuracyCalculator.risk_hist(classifier.predict(X_test)[:,0], y_test)"
   ]
  },
  {
   "cell_type": "code",
   "execution_count": 13,
   "metadata": {},
   "outputs": [
    {
     "data": {
      "text/plain": [
       "<matplotlib.axes._subplots.AxesSubplot at 0x7f0409c9c4e0>"
      ]
     },
     "execution_count": 13,
     "metadata": {},
     "output_type": "execute_result"
    },
    {
     "data": {
      "image/png": "[encoded data removed]",
      "text/plain": [
       "<Figure size 432x288 with 1 Axes>"
      ]
     },
     "metadata": {
      "needs_background": "light"
     },
     "output_type": "display_data"
    }
   ],
   "source": [
    "risk_hist_df.risk.plot()"
   ]
  },
  {
   "cell_type": "code",
   "execution_count": null,
   "metadata": {},
   "outputs": [],
   "source": []
  }
 ],
 "metadata": {
  "kernelspec": {
   "display_name": "Python 3",
   "language": "python",
   "name": "python3"
  },
  "language_info": {
   "codemirror_mode": {
    "name": "ipython",
    "version": 3
   },
   "file_extension": ".py",
   "mimetype": "text/x-python",
   "name": "python",
   "nbconvert_exporter": "python",
   "pygments_lexer": "ipython3",
   "version": "3.6.6"
  }
 },
 "nbformat": 4,
 "nbformat_minor": 2
}
