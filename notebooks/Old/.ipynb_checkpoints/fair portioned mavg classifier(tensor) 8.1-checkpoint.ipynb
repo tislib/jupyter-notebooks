{
 "cells": [
  {
   "cell_type": "code",
   "execution_count": 4,
   "metadata": {},
   "outputs": [],
   "source": [
    "import pandas as pd\n",
    "import numpy as np\n",
    "import math\n",
    "import matplotlib.pyplot as plt\n",
    "%matplotlib inline \n",
    "plt.rcParams['figure.figsize'] = [15, 5]"
   ]
  },
  {
   "cell_type": "code",
   "execution_count": 6,
   "metadata": {},
   "outputs": [
    {
     "name": "stdout",
     "output_type": "stream",
     "text": [
      "The autoreload extension is already loaded. To reload it, use:\n",
      "  %reload_ext autoreload\n"
     ]
    }
   ],
   "source": [
    "%load_ext autoreload\n",
    "%autoreload 2\n",
    "%run '../../main.py'"
   ]
  },
  {
   "cell_type": "code",
   "execution_count": 7,
   "metadata": {},
   "outputs": [],
   "source": [
    "dataSetOps = DataSetOps()\n",
    "\n",
    "mul = 10000\n",
    "\n",
    "dataSetOps.import_years(2017, 2017)\n",
    "dataSetOps.df['max'] = dataSetOps.df['max'] * mul\n",
    "dataSetOps.df['min'] = dataSetOps.df['min'] * mul\n",
    "dataSetOps.df['open'] = dataSetOps.df['open'] * mul\n",
    "dataSetOps.df['price'] = dataSetOps.df['price'] * mul\n",
    "\n",
    "dataSetOps.prepare()\n",
    "\n",
    "\n",
    "df = dataSetOps.df"
   ]
  },
  {
   "cell_type": "code",
   "execution_count": 8,
   "metadata": {},
   "outputs": [],
   "source": [
    "# print(df)\n",
    "# variables\n",
    "mavglar = [30, 50, 70]\n",
    "window = 15\n",
    "spread = 1.5\n",
    "epilson = spread * mul / 10000"
   ]
  },
  {
   "cell_type": "code",
   "execution_count": 9,
   "metadata": {},
   "outputs": [],
   "source": [
    "df['value'] = True\n",
    "for mavgl in mavglar:\n",
    "    mavgl = str(mavgl)\n",
    "    df['f_mavg' + mavgl] = df['mavg' + mavgl].shift(-window).rolling(window=50).mean()\n",
    "    df['value'] = df['value'] & (df['f_mavg' + mavgl] - df['mavg' + mavgl] > epilson)\n",
    "    #df[['price', 'mavg' + mavgl, 'mavg10', 'f_mavg' + mavgl]].head(1000).plot()\n",
    "    \n",
    "    \n",
    "df['f_price'] = df['price'].shift(-window).rolling(window=window).max()\n",
    "df['value_real'] = df['f_price'] - df['price'] > epilson"
   ]
  },
  {
   "cell_type": "code",
   "execution_count": 10,
   "metadata": {},
   "outputs": [
    {
     "name": "stdout",
     "output_type": "stream",
     "text": [
      "pattern prob 10.53125877443529 %\n",
      "pattern total prob 5.86941799569925 %\n",
      "370633\n"
     ]
    },
    {
     "data": {
      "image/png": "[encoded data removed]",
      "text/plain": [
       "<Figure size 1080x360 with 1 Axes>"
      ]
     },
     "metadata": {
      "needs_background": "light"
     },
     "output_type": "display_data"
    }
   ],
   "source": [
    "df['value'].astype(int).hist()\n",
    "print('pattern prob', (len(df[df['value']]) / (len(df[df['value_real']]))) * 100, '%')\n",
    "print('pattern total prob', (len(df[df['value']]) / (len(df))) * 100, '%')\n",
    "print(len(df))"
   ]
  },
  {
   "cell_type": "code",
   "execution_count": 11,
   "metadata": {},
   "outputs": [],
   "source": [
    "X = df[['price', 'mavg10', 'mavg20', 'mavg50', 'mavg80', 'mavg100', 'mavg1000']]\n",
    "Y = df['value']\n",
    "\n",
    "from sklearn.model_selection import train_test_split\n",
    "X_train, X_test, y_train, y_test = train_test_split(X, Y, test_size = 0.1)\n",
    "\n",
    "from sklearn.preprocessing import StandardScaler\n",
    "sc = StandardScaler()\n",
    "X_train = sc.fit_transform(X_train)\n",
    "X_test = sc.transform(X_test)"
   ]
  },
  {
   "cell_type": "code",
   "execution_count": null,
   "metadata": {},
   "outputs": [],
   "source": []
  },
  {
   "cell_type": "code",
   "execution_count": null,
   "metadata": {
    "scrolled": true
   },
   "outputs": [
    {
     "name": "stderr",
     "output_type": "stream",
     "text": [
      "Using TensorFlow backend.\n",
      "/home/taleh/anaconda3/lib/python3.6/site-packages/ipykernel_launcher.py:10: UserWarning: Update your `Dense` call to the Keras 2 API: `Dense(activation=\"relu\", input_dim=7, units=16, kernel_initializer=\"uniform\")`\n",
      "  # Remove the CWD from sys.path while we load stuff.\n",
      "/home/taleh/anaconda3/lib/python3.6/site-packages/ipykernel_launcher.py:11: UserWarning: Update your `Dense` call to the Keras 2 API: `Dense(activation=\"relu\", units=16, kernel_initializer=\"uniform\")`\n",
      "  # This is added back by InteractiveShellApp.init_path()\n",
      "/home/taleh/anaconda3/lib/python3.6/site-packages/ipykernel_launcher.py:12: UserWarning: Update your `Dense` call to the Keras 2 API: `Dense(activation=\"relu\", units=16, kernel_initializer=\"uniform\")`\n",
      "  if sys.path[0] == '':\n",
      "/home/taleh/anaconda3/lib/python3.6/site-packages/ipykernel_launcher.py:19: UserWarning: Update your `Dense` call to the Keras 2 API: `Dense(activation=\"sigmoid\", units=1, kernel_initializer=\"uniform\")`\n"
     ]
    },
    {
     "name": "stdout",
     "output_type": "stream",
     "text": [
      "Epoch 1/7\n",
      "333569/333569 [==============================] - 7s 22us/step - loss: 0.0545 - mean_absolute_error: 0.1099 - acc: 0.9410\n",
      "Epoch 2/7\n",
      "310800/333569 [==========================>...] - ETA: 0s - loss: 0.0463 - mean_absolute_error: 0.0913 - acc: 0.9434"
     ]
    }
   ],
   "source": [
    "# Importing the Keras libraries and packages\n",
    "import keras\n",
    "from keras.models import Sequential\n",
    "from keras.layers import Dense\n",
    "\n",
    "    \n",
    "#Initializing Neural Network\n",
    "classifier = Sequential()\n",
    "\n",
    "class1 = Dense(output_dim = 16, init = 'uniform', activation = 'relu', input_dim = 7)\n",
    "class2 = Dense(output_dim = 16, init = 'uniform', activation = 'relu')\n",
    "class3 = Dense(output_dim = 16, init = 'uniform', activation = 'relu')\n",
    "# Adding the input layer and the first hidden layer\n",
    "classifier.add(class1)\n",
    "# Adding the second hidden layer\n",
    "classifier.add(class2)\n",
    "classifier.add(class3)\n",
    "# Adding the output layer\n",
    "classifier.add(Dense(output_dim = 1, init = 'uniform', activation = 'sigmoid'))\n",
    "\n",
    "# Compiling Neural Network\n",
    "from keras import metrics\n",
    "metric_names = [metrics.mae, 'accuracy']\n",
    "classifier.compile(optimizer='adam', loss = 'mean_squared_error', metrics=metric_names)\n",
    "\n",
    "\n",
    "# Fitting our model \n",
    "classifier.fit(X_train, y_train, batch_size = 20, epochs = 7)\n",
    "import random\n",
    "classifier.save(\"/tmp/mavg_classifier_\" + str(random.randint(100000, 999999)))"
   ]
  },
  {
   "cell_type": "code",
   "execution_count": null,
   "metadata": {},
   "outputs": [],
   "source": []
  },
  {
   "cell_type": "code",
   "execution_count": 26,
   "metadata": {},
   "outputs": [
    {
     "name": "stdout",
     "output_type": "stream",
     "text": [
      "class_accuracy => accuracy:  0.6104610277912688 risk:  0.12830188679245283\n",
      "optimistic_accuracy => risk:  0.08 min pass point:  0.8820779\n"
     ]
    }
   ],
   "source": [
    "# Creating the Confusion Matrix\n",
    "from sklearn.metrics import confusion_matrix\n",
    "from lib.helper import AccuracyCalculator\n",
    "\n",
    "# Predicting the Test set results\n",
    "y_pred = classifier.predict(X_test)\n",
    "cm = confusion_matrix(y_test, (y_pred > 0.8))\n",
    "\n",
    "AccuracyCalculator.class_accuracy(cm)\n",
    "AccuracyCalculator.optimistic_accuracy(y_pred[:,0], y_test, 100)\n",
    "risk_hist_df = AccuracyCalculator.risk_hist(y_pred[:,0], y_test)\n"
   ]
  },
  {
   "cell_type": "code",
   "execution_count": 27,
   "metadata": {},
   "outputs": [
    {
     "data": {
      "text/plain": [
       "<matplotlib.axes._subplots.AxesSubplot at 0x7fa2fff8bfd0>"
      ]
     },
     "execution_count": 27,
     "metadata": {},
     "output_type": "execute_result"
    },
    {
     "data": {
      "image/png": "[encoded data removed]",
      "text/plain": [
       "<Figure size 432x288 with 1 Axes>"
      ]
     },
     "metadata": {
      "needs_background": "light"
     },
     "output_type": "display_data"
    }
   ],
   "source": [
    "(1-risk_hist_df.risk).plot()"
   ]
  },
  {
   "cell_type": "code",
   "execution_count": 28,
   "metadata": {},
   "outputs": [
    {
     "data": {
      "text/plain": [
       "array([[34923,    68],\n",
       "       [ 1611,   462]])"
      ]
     },
     "execution_count": 28,
     "metadata": {},
     "output_type": "execute_result"
    }
   ],
   "source": [
    "cm"
   ]
  },
  {
   "cell_type": "code",
   "execution_count": null,
   "metadata": {},
   "outputs": [],
   "source": []
  },
  {
   "cell_type": "code",
   "execution_count": 29,
   "metadata": {},
   "outputs": [
    {
     "name": "stdout",
     "output_type": "stream",
     "text": [
      "real prob 0.7248322147651006 0.8716981132075472 0.6318348740027858\n"
     ]
    }
   ],
   "source": [
    "dfx = df[df['value']]\n",
    "p_f = len(dfx[dfx['value_real']]) / len(dfx)\n",
    "p_r = cm[1,1] / (cm[1,1] + cm[0,1])\n",
    "print('real prob', p_f , p_r, p_f * p_r)"
   ]
  },
  {
   "cell_type": "code",
   "execution_count": 31,
   "metadata": {},
   "outputs": [
    {
     "name": "stdout",
     "output_type": "stream",
     "text": [
      "class_accuracy => accuracy:  0.5061619256498475 risk:  0.2255827393565787\n",
      "optimistic_accuracy => risk:  0.17 min pass point:  0.8820779\n",
      "[[162898   1171]\n",
      " [202546   4020]]\n"
     ]
    },
    {
     "data": {
      "text/plain": [
       "<matplotlib.axes._subplots.AxesSubplot at 0x7fa2e44fa550>"
      ]
     },
     "execution_count": 31,
     "metadata": {},
     "output_type": "execute_result"
    },
    {
     "data": {
      "image/png": "[encoded data removed]",
      "text/plain": [
       "<Figure size 432x288 with 1 Axes>"
      ]
     },
     "metadata": {
      "needs_background": "light"
     },
     "output_type": "display_data"
    }
   ],
   "source": [
    "y_all_pred = classifier.predict(sc.transform(X))\n",
    "y_f_price_real = df['value_real']\n",
    "cm = confusion_matrix(y_f_price_real, (y_all_pred > 0.8))\n",
    "\n",
    "AccuracyCalculator.class_accuracy(cm)\n",
    "AccuracyCalculator.optimistic_accuracy(y_all_pred[:,0], y_f_price_real, 100)\n",
    "risk_hist_df = AccuracyCalculator.risk_hist(y_all_pred[:,0], y_f_price_real)\n",
    "\n",
    "print(cm)\n",
    "\n",
    "(1-risk_hist_df.risk).plot()\n",
    "\n"
   ]
  },
  {
   "cell_type": "code",
   "execution_count": 32,
   "metadata": {},
   "outputs": [
    {
     "name": "stdout",
     "output_type": "stream",
     "text": [
      "0.7248322147651006\n",
      "21754\n"
     ]
    },
    {
     "data": {
      "image/png": "[encoded data removed]",
      "text/plain": [
       "<Figure size 432x288 with 1 Axes>"
      ]
     },
     "metadata": {
      "needs_background": "light"
     },
     "output_type": "display_data"
    }
   ],
   "source": [
    "dfr = df[df['value']]\n",
    "dfr['value_real'].astype(int).hist()\n",
    "print(len(dfr[dfr['value_real']]) / (len(dfr)))\n",
    "print(len(dfr['value_real']))"
   ]
  },
  {
   "cell_type": "code",
   "execution_count": null,
   "metadata": {},
   "outputs": [],
   "source": []
  }
 ],
 "metadata": {
  "kernelspec": {
   "display_name": "Python 3",
   "language": "python",
   "name": "python3"
  },
  "language_info": {
   "codemirror_mode": {
    "name": "ipython",
    "version": 3
   },
   "file_extension": ".py",
   "mimetype": "text/x-python",
   "name": "python",
   "nbconvert_exporter": "python",
   "pygments_lexer": "ipython3",
   "version": "3.6.8"
  }
 },
 "nbformat": 4,
 "nbformat_minor": 2
}
