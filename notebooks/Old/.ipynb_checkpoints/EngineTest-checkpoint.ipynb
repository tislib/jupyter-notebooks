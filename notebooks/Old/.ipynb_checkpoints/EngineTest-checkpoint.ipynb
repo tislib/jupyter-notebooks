{
 "cells": [
  {
   "cell_type": "code",
   "execution_count": 1,
   "metadata": {},
   "outputs": [],
   "source": [
    "import pandas as pd\n",
    "import numpy as np\n",
    "import math\n",
    "import matplotlib.pyplot as plt\n",
    "%matplotlib inline \n",
    "plt.rcParams['figure.figsize'] = [15, 5]\n",
    "\n",
    "%load_ext autoreload\n",
    "%autoreload 2\n",
    "%run '../main.py'\n",
    "from lib.engine.btengine import BackTestEngine \n",
    "\n",
    "dataSetOps = DataSetOps()\n",
    "\n",
    "mul = 10000\n",
    "\n",
    "dataSetOps.import_tick_data_set('/media/taleh/TIsStorage/archive/finance-data/currency/Tick/DAT_ASCII_EURUSD_T_201902_cut.csv')\n",
    "# dataSetOps.df"
   ]
  },
  {
   "cell_type": "code",
   "execution_count": 2,
   "metadata": {},
   "outputs": [],
   "source": [
    "from lib.engine.btengine import BackTestEngine\n",
    "from lib.strategy.simple import SimpleStrategy\n",
    "from lib.algorithm.randoma import RandomAlgorithm\n",
    "from lib.algorithm.snnalgorithm import SimpleNeuralNetworkAlgorithm"
   ]
  },
  {
   "cell_type": "code",
   "execution_count": 3,
   "metadata": {},
   "outputs": [],
   "source": [
    "snnAlgo1 = SimpleNeuralNetworkAlgorithm()\n",
    "strategy1 = SimpleStrategy()\n",
    "btengine1 = BackTestEngine()\n",
    "btengine1.init(dataSetOps.df, snnAlgo1, strategy1)"
   ]
  },
  {
   "cell_type": "code",
   "execution_count": 4,
   "metadata": {},
   "outputs": [
    {
     "name": "stdout",
     "output_type": "stream",
     "text": [
      "historical 2019-02-03 17:00:00 1.145205 3.3 None\n",
      "historical 2019-02-03 17:01:00 1.145185 2.9 None\n",
      "historical 2019-02-03 17:02:00 1.14521 2.6 None\n",
      "historical 2019-02-03 17:03:00 1.14533 2.8 None\n",
      "historical 2019-02-03 17:04:00 1.145305 3.3 None\n",
      "historical 2019-02-03 17:05:00 1.14532 1.8 None\n",
      "historical 2019-02-03 17:06:00 1.145475 0.3 None\n",
      "historical 2019-02-03 17:07:00 1.14549 0.6 None\n",
      "historical 2019-02-03 17:08:00 1.145565 0.9 None\n",
      "historical 2019-02-03 17:09:00 1.14554 0.6 1.1453625\n",
      "historical 2019-02-03 17:10:00 1.145685 1.5 1.1454105\n",
      "historical 2019-02-03 17:11:00 1.1457 1.8 1.145462\n",
      "historical 2019-02-03 17:12:00 1.14562 2.8 1.145503\n",
      "historical 2019-02-03 17:13:00 1.145615 2.9 1.1455315\n",
      "historical 2019-02-03 17:14:00 1.145615 2.9 1.1455625\n",
      "historical 2019-02-03 17:15:00 1.14558 3.0 1.1455885\n",
      "historical 2019-02-03 17:16:00 1.14559 2.4 1.1456\n",
      "historical 2019-02-03 17:17:00 1.14558 1.6 1.145609\n",
      "historical 2019-02-03 17:18:00 1.14556 2.0 1.1456085\n",
      "historical 2019-02-03 17:19:00 1.145625 2.9 1.145617\n",
      "historical 2019-02-03 17:20:00 1.145615 2.7 1.14561\n",
      "historical 2019-02-03 17:21:00 1.145405 2.1 1.1455805\n",
      "historical 2019-02-03 17:22:00 1.14544 3.4 1.1455625\n",
      "historical 2019-02-03 17:23:00 1.14546 3.6 1.145547\n",
      "historical 2019-02-03 17:24:00 1.14551 3.6 1.1455365\n",
      "historical 2019-02-03 17:25:00 1.14553 3.6 1.1455315\n",
      "historical 2019-02-03 17:26:00 1.14551 3.8 1.1455235\n",
      "historical 2019-02-03 17:27:00 1.14548 4.2 1.1455135\n",
      "historical 2019-02-03 17:28:00 1.14548 4.2 1.1455055\n",
      "historical 2019-02-03 17:29:00 1.145515 4.1 1.1454945\n",
      "historical 2019-02-03 17:30:00 1.1454 4.0 1.145473\n"
     ]
    }
   ],
   "source": [
    "btengine1.run()"
   ]
  },
  {
   "cell_type": "code",
   "execution_count": 5,
   "metadata": {},
   "outputs": [
    {
     "data": {
      "text/plain": [
       "''"
      ]
     },
     "execution_count": 5,
     "metadata": {},
     "output_type": "execute_result"
    }
   ],
   "source": [
    "btengine1.report()"
   ]
  },
  {
   "cell_type": "code",
   "execution_count": 6,
   "metadata": {},
   "outputs": [
    {
     "data": {
      "text/html": [
       "<div>\n",
       "<style scoped>\n",
       "    .dataframe tbody tr th:only-of-type {\n",
       "        vertical-align: middle;\n",
       "    }\n",
       "\n",
       "    .dataframe tbody tr th {\n",
       "        vertical-align: top;\n",
       "    }\n",
       "\n",
       "    .dataframe thead th {\n",
       "        text-align: right;\n",
       "    }\n",
       "</style>\n",
       "<table border=\"1\" class=\"dataframe\">\n",
       "  <thead>\n",
       "    <tr style=\"text-align: right;\">\n",
       "      <th></th>\n",
       "      <th>price</th>\n",
       "      <th>spread</th>\n",
       "    </tr>\n",
       "    <tr>\n",
       "      <th>time_m</th>\n",
       "      <th></th>\n",
       "      <th></th>\n",
       "    </tr>\n",
       "  </thead>\n",
       "  <tbody>\n",
       "    <tr>\n",
       "      <th>2019-02-03 17:00:00</th>\n",
       "      <td>NaN</td>\n",
       "      <td>NaN</td>\n",
       "    </tr>\n",
       "    <tr>\n",
       "      <th>2019-02-03 17:01:00</th>\n",
       "      <td>NaN</td>\n",
       "      <td>NaN</td>\n",
       "    </tr>\n",
       "    <tr>\n",
       "      <th>2019-02-03 17:02:00</th>\n",
       "      <td>NaN</td>\n",
       "      <td>NaN</td>\n",
       "    </tr>\n",
       "    <tr>\n",
       "      <th>2019-02-03 17:03:00</th>\n",
       "      <td>NaN</td>\n",
       "      <td>NaN</td>\n",
       "    </tr>\n",
       "    <tr>\n",
       "      <th>2019-02-03 17:04:00</th>\n",
       "      <td>NaN</td>\n",
       "      <td>NaN</td>\n",
       "    </tr>\n",
       "    <tr>\n",
       "      <th>2019-02-03 17:05:00</th>\n",
       "      <td>NaN</td>\n",
       "      <td>NaN</td>\n",
       "    </tr>\n",
       "    <tr>\n",
       "      <th>2019-02-03 17:06:00</th>\n",
       "      <td>NaN</td>\n",
       "      <td>NaN</td>\n",
       "    </tr>\n",
       "    <tr>\n",
       "      <th>2019-02-03 17:07:00</th>\n",
       "      <td>NaN</td>\n",
       "      <td>NaN</td>\n",
       "    </tr>\n",
       "    <tr>\n",
       "      <th>2019-02-03 17:08:00</th>\n",
       "      <td>NaN</td>\n",
       "      <td>NaN</td>\n",
       "    </tr>\n",
       "    <tr>\n",
       "      <th>2019-02-03 17:09:00</th>\n",
       "      <td>1.145363</td>\n",
       "      <td>1.91</td>\n",
       "    </tr>\n",
       "    <tr>\n",
       "      <th>2019-02-03 17:10:00</th>\n",
       "      <td>1.145411</td>\n",
       "      <td>1.73</td>\n",
       "    </tr>\n",
       "    <tr>\n",
       "      <th>2019-02-03 17:11:00</th>\n",
       "      <td>1.145462</td>\n",
       "      <td>1.62</td>\n",
       "    </tr>\n",
       "    <tr>\n",
       "      <th>2019-02-03 17:12:00</th>\n",
       "      <td>1.145503</td>\n",
       "      <td>1.64</td>\n",
       "    </tr>\n",
       "    <tr>\n",
       "      <th>2019-02-03 17:13:00</th>\n",
       "      <td>1.145531</td>\n",
       "      <td>1.65</td>\n",
       "    </tr>\n",
       "    <tr>\n",
       "      <th>2019-02-03 17:14:00</th>\n",
       "      <td>1.145562</td>\n",
       "      <td>1.61</td>\n",
       "    </tr>\n",
       "    <tr>\n",
       "      <th>2019-02-03 17:15:00</th>\n",
       "      <td>1.145588</td>\n",
       "      <td>1.73</td>\n",
       "    </tr>\n",
       "    <tr>\n",
       "      <th>2019-02-03 17:16:00</th>\n",
       "      <td>1.145600</td>\n",
       "      <td>1.94</td>\n",
       "    </tr>\n",
       "    <tr>\n",
       "      <th>2019-02-03 17:17:00</th>\n",
       "      <td>1.145609</td>\n",
       "      <td>2.04</td>\n",
       "    </tr>\n",
       "    <tr>\n",
       "      <th>2019-02-03 17:18:00</th>\n",
       "      <td>1.145609</td>\n",
       "      <td>2.15</td>\n",
       "    </tr>\n",
       "    <tr>\n",
       "      <th>2019-02-03 17:19:00</th>\n",
       "      <td>1.145617</td>\n",
       "      <td>2.38</td>\n",
       "    </tr>\n",
       "    <tr>\n",
       "      <th>2019-02-03 17:20:00</th>\n",
       "      <td>1.145610</td>\n",
       "      <td>2.50</td>\n",
       "    </tr>\n",
       "    <tr>\n",
       "      <th>2019-02-03 17:21:00</th>\n",
       "      <td>1.145580</td>\n",
       "      <td>2.53</td>\n",
       "    </tr>\n",
       "    <tr>\n",
       "      <th>2019-02-03 17:22:00</th>\n",
       "      <td>1.145563</td>\n",
       "      <td>2.59</td>\n",
       "    </tr>\n",
       "    <tr>\n",
       "      <th>2019-02-03 17:23:00</th>\n",
       "      <td>1.145547</td>\n",
       "      <td>2.66</td>\n",
       "    </tr>\n",
       "    <tr>\n",
       "      <th>2019-02-03 17:24:00</th>\n",
       "      <td>1.145537</td>\n",
       "      <td>2.73</td>\n",
       "    </tr>\n",
       "    <tr>\n",
       "      <th>2019-02-03 17:25:00</th>\n",
       "      <td>1.145532</td>\n",
       "      <td>2.79</td>\n",
       "    </tr>\n",
       "    <tr>\n",
       "      <th>2019-02-03 17:26:00</th>\n",
       "      <td>1.145523</td>\n",
       "      <td>2.93</td>\n",
       "    </tr>\n",
       "    <tr>\n",
       "      <th>2019-02-03 17:27:00</th>\n",
       "      <td>1.145514</td>\n",
       "      <td>3.19</td>\n",
       "    </tr>\n",
       "    <tr>\n",
       "      <th>2019-02-03 17:28:00</th>\n",
       "      <td>1.145506</td>\n",
       "      <td>3.41</td>\n",
       "    </tr>\n",
       "    <tr>\n",
       "      <th>2019-02-03 17:29:00</th>\n",
       "      <td>1.145495</td>\n",
       "      <td>3.53</td>\n",
       "    </tr>\n",
       "    <tr>\n",
       "      <th>2019-02-03 17:30:00</th>\n",
       "      <td>1.145473</td>\n",
       "      <td>3.66</td>\n",
       "    </tr>\n",
       "  </tbody>\n",
       "</table>\n",
       "</div>"
      ],
      "text/plain": [
       "                        price  spread\n",
       "time_m                               \n",
       "2019-02-03 17:00:00       NaN     NaN\n",
       "2019-02-03 17:01:00       NaN     NaN\n",
       "2019-02-03 17:02:00       NaN     NaN\n",
       "2019-02-03 17:03:00       NaN     NaN\n",
       "2019-02-03 17:04:00       NaN     NaN\n",
       "2019-02-03 17:05:00       NaN     NaN\n",
       "2019-02-03 17:06:00       NaN     NaN\n",
       "2019-02-03 17:07:00       NaN     NaN\n",
       "2019-02-03 17:08:00       NaN     NaN\n",
       "2019-02-03 17:09:00  1.145363    1.91\n",
       "2019-02-03 17:10:00  1.145411    1.73\n",
       "2019-02-03 17:11:00  1.145462    1.62\n",
       "2019-02-03 17:12:00  1.145503    1.64\n",
       "2019-02-03 17:13:00  1.145531    1.65\n",
       "2019-02-03 17:14:00  1.145562    1.61\n",
       "2019-02-03 17:15:00  1.145588    1.73\n",
       "2019-02-03 17:16:00  1.145600    1.94\n",
       "2019-02-03 17:17:00  1.145609    2.04\n",
       "2019-02-03 17:18:00  1.145609    2.15\n",
       "2019-02-03 17:19:00  1.145617    2.38\n",
       "2019-02-03 17:20:00  1.145610    2.50\n",
       "2019-02-03 17:21:00  1.145580    2.53\n",
       "2019-02-03 17:22:00  1.145563    2.59\n",
       "2019-02-03 17:23:00  1.145547    2.66\n",
       "2019-02-03 17:24:00  1.145537    2.73\n",
       "2019-02-03 17:25:00  1.145532    2.79\n",
       "2019-02-03 17:26:00  1.145523    2.93\n",
       "2019-02-03 17:27:00  1.145514    3.19\n",
       "2019-02-03 17:28:00  1.145506    3.41\n",
       "2019-02-03 17:29:00  1.145495    3.53\n",
       "2019-02-03 17:30:00  1.145473    3.66"
      ]
     },
     "execution_count": 6,
     "metadata": {},
     "output_type": "execute_result"
    }
   ],
   "source": [
    "dfag = snnAlgo1.pdHelper.df[['time_m', 'price', 'spread']].groupby('time_m').first()\n",
    "dfag.rolling(window=10).mean()\n",
    "# snnAlgo1.pdHelper.df\n",
    "# snnAlgo1.dfh"
   ]
  },
  {
   "cell_type": "code",
   "execution_count": 7,
   "metadata": {},
   "outputs": [
    {
     "data": {
      "text/plain": [
       "3"
      ]
     },
     "execution_count": 7,
     "metadata": {},
     "output_type": "execute_result"
    }
   ],
   "source": [
    "max([1,2,3])"
   ]
  },
  {
   "cell_type": "code",
   "execution_count": 8,
   "metadata": {},
   "outputs": [
    {
     "data": {
      "text/plain": [
       "[1, 2, 3]"
      ]
     },
     "execution_count": 8,
     "metadata": {},
     "output_type": "execute_result"
    }
   ],
   "source": [
    "a = [1,2,3]\n",
    "a[len(a)-3:]"
   ]
  },
  {
   "cell_type": "code",
   "execution_count": null,
   "metadata": {},
   "outputs": [],
   "source": []
  }
 ],
 "metadata": {
  "kernelspec": {
   "display_name": "Python 3",
   "language": "python",
   "name": "python3"
  },
  "language_info": {
   "codemirror_mode": {
    "name": "ipython",
    "version": 3
   },
   "file_extension": ".py",
   "mimetype": "text/x-python",
   "name": "python",
   "nbconvert_exporter": "python",
   "pygments_lexer": "ipython3",
   "version": "3.6.8"
  }
 },
 "nbformat": 4,
 "nbformat_minor": 2
}
