{
 "cells": [
  {
   "cell_type": "code",
   "execution_count": 4,
   "metadata": {},
   "outputs": [],
   "source": [
    "import pandas as pd\n",
    "import numpy as np\n",
    "import math\n",
    "import matplotlib.pyplot as plt\n",
    "%matplotlib inline \n",
    "plt.rcParams['figure.figsize'] = [15, 5]"
   ]
  },
  {
   "cell_type": "code",
   "execution_count": 5,
   "metadata": {},
   "outputs": [],
   "source": [
    "%load_ext autoreload\n",
    "%autoreload 2\n",
    "%run '../main.py'"
   ]
  },
  {
   "cell_type": "code",
   "execution_count": 6,
   "metadata": {},
   "outputs": [],
   "source": [
    "dataSetOps = DataSetOps()\n",
    "\n",
    "dataSetOps.import_years(2017, 2017)\n",
    "\n",
    "dataSetOps.prepare()\n",
    "\n",
    "\n",
    "df = dataSetOps.df"
   ]
  },
  {
   "cell_type": "code",
   "execution_count": 7,
   "metadata": {},
   "outputs": [],
   "source": [
    "# variables\n",
    "mavglar = [30, 50, 70]\n",
    "window = 15\n",
    "epilson = 0.0001"
   ]
  },
  {
   "cell_type": "code",
   "execution_count": 8,
   "metadata": {},
   "outputs": [],
   "source": [
    "df['value'] = True\n",
    "for mavgl in mavglar:\n",
    "    mavgl = str(mavgl)\n",
    "    df['f_mavg' + mavgl] = df['mavg' + mavgl].shift(-window).rolling(window=50).mean()\n",
    "    df['value'] = df['value'] & (df['f_mavg' + mavgl] - df['mavg' + mavgl] > epilson)\n",
    "    #df[['price', 'mavg' + mavgl, 'mavg10', 'f_mavg' + mavgl]].head(1000).plot()\n",
    "    \n",
    "    \n",
    "df['f_price'] = df['price'].shift(-window).rolling(window=window).max()\n",
    "df['value_real'] = df['f_price'] - df['price'] > epilson"
   ]
  },
  {
   "cell_type": "code",
   "execution_count": 18,
   "metadata": {},
   "outputs": [
    {
     "name": "stdout",
     "output_type": "stream",
     "text": [
      "0.10458807182268269\n"
     ]
    },
    {
     "data": {
      "image/png": "[encoded data removed]",
      "text/plain": [
       "<Figure size 432x288 with 1 Axes>"
      ]
     },
     "metadata": {
      "needs_background": "light"
     },
     "output_type": "display_data"
    }
   ],
   "source": [
    "df['value'].astype(int).hist()\n",
    "# print(len(df[df['value']]) / (len(df[df['value_real']])))\n",
    "print(len(df[df['value']]) / (len(df)))\n",
    "# print(len(df))"
   ]
  },
  {
   "cell_type": "code",
   "execution_count": 19,
   "metadata": {},
   "outputs": [],
   "source": [
    "X = df[['price', 'mavg10', 'mavg20', 'mavg50', 'mavg80', 'mavg100', 'mavg1000']]\n",
    "Y = df['value']\n",
    "\n",
    "from sklearn.model_selection import train_test_split\n",
    "X_train, X_test, y_train, y_test = train_test_split(X, Y, test_size = 0.1)\n",
    "\n",
    "from sklearn.preprocessing import StandardScaler\n",
    "sc = StandardScaler()\n",
    "X_train = sc.fit_transform(X_train)\n",
    "X_test = sc.transform(X_test)"
   ]
  },
  {
   "cell_type": "code",
   "execution_count": null,
   "metadata": {},
   "outputs": [],
   "source": []
  },
  {
   "cell_type": "code",
   "execution_count": 20,
   "metadata": {
    "scrolled": true
   },
   "outputs": [
    {
     "name": "stderr",
     "output_type": "stream",
     "text": [
      "Using TensorFlow backend.\n",
      "/home/taleh/anaconda3/lib/python3.6/site-packages/ipykernel_launcher.py:10: UserWarning: Update your `Dense` call to the Keras 2 API: `Dense(activation=\"relu\", input_dim=7, units=16, kernel_initializer=\"uniform\")`\n",
      "  # Remove the CWD from sys.path while we load stuff.\n",
      "/home/taleh/anaconda3/lib/python3.6/site-packages/ipykernel_launcher.py:11: UserWarning: Update your `Dense` call to the Keras 2 API: `Dense(activation=\"relu\", units=16, kernel_initializer=\"uniform\")`\n",
      "  # This is added back by InteractiveShellApp.init_path()\n",
      "/home/taleh/anaconda3/lib/python3.6/site-packages/ipykernel_launcher.py:12: UserWarning: Update your `Dense` call to the Keras 2 API: `Dense(activation=\"relu\", units=16, kernel_initializer=\"uniform\")`\n",
      "  if sys.path[0] == '':\n",
      "/home/taleh/anaconda3/lib/python3.6/site-packages/ipykernel_launcher.py:19: UserWarning: Update your `Dense` call to the Keras 2 API: `Dense(activation=\"sigmoid\", units=1, kernel_initializer=\"uniform\")`\n"
     ]
    },
    {
     "name": "stdout",
     "output_type": "stream",
     "text": [
      "Epoch 1/7\n",
      "333571/333571 [==============================] - 7s 21us/step - loss: 0.0892 - mean_absolute_error: 0.1790 - acc: 0.8962\n",
      "Epoch 2/7\n",
      "333571/333571 [==============================] - 7s 21us/step - loss: 0.0702 - mean_absolute_error: 0.1399 - acc: 0.9098\n",
      "Epoch 3/7\n",
      "333571/333571 [==============================] - 7s 21us/step - loss: 0.0576 - mean_absolute_error: 0.1143 - acc: 0.9245\n",
      "Epoch 4/7\n",
      "333571/333571 [==============================] - 7s 21us/step - loss: 0.0543 - mean_absolute_error: 0.1081 - acc: 0.9276\n",
      "Epoch 5/7\n",
      "333571/333571 [==============================] - 7s 21us/step - loss: 0.0529 - mean_absolute_error: 0.1047 - acc: 0.9293\n",
      "Epoch 6/7\n",
      "333571/333571 [==============================] - 7s 21us/step - loss: 0.0513 - mean_absolute_error: 0.1014 - acc: 0.9314\n",
      "Epoch 7/7\n",
      "333571/333571 [==============================] - 7s 21us/step - loss: 0.0503 - mean_absolute_error: 0.0994 - acc: 0.9324\n"
     ]
    }
   ],
   "source": [
    "# Importing the Keras libraries and packages\n",
    "import keras\n",
    "from keras.models import Sequential\n",
    "from keras.layers import Dense\n",
    "\n",
    "    \n",
    "#Initializing Neural Network\n",
    "classifier = Sequential()\n",
    "\n",
    "class1 = Dense(output_dim = 16, init = 'uniform', activation = 'relu', input_dim = 7)\n",
    "class2 = Dense(output_dim = 16, init = 'uniform', activation = 'relu')\n",
    "class3 = Dense(output_dim = 16, init = 'uniform', activation = 'relu')\n",
    "# Adding the input layer and the first hidden layer\n",
    "classifier.add(class1)\n",
    "# Adding the second hidden layer\n",
    "classifier.add(class2)\n",
    "classifier.add(class3)\n",
    "# Adding the output layer\n",
    "classifier.add(Dense(output_dim = 1, init = 'uniform', activation = 'sigmoid'))\n",
    "\n",
    "# Compiling Neural Network\n",
    "from keras import metrics\n",
    "metric_names = [metrics.mae, 'accuracy']\n",
    "classifier.compile(optimizer='adam', loss = 'mean_squared_error', metrics=metric_names)\n",
    "\n",
    "\n",
    "# Fitting our model \n",
    "classifier.fit(X_train, y_train, batch_size = 20, epochs = 7)\n",
    "import random\n",
    "classifier.save(\"/tmp/mavg_classifier_\" + str(random.randint(100000, 999999)))"
   ]
  },
  {
   "cell_type": "code",
   "execution_count": null,
   "metadata": {},
   "outputs": [],
   "source": []
  },
  {
   "cell_type": "code",
   "execution_count": 21,
   "metadata": {},
   "outputs": [
    {
     "name": "stdout",
     "output_type": "stream",
     "text": [
      "class_accuracy => accuracy:  0.6493953572093913 risk:  0.15910727141828654\n",
      "optimistic_accuracy => risk:  0.07 min pass point:  0.8916117\n"
     ]
    }
   ],
   "source": [
    "# Creating the Confusion Matrix\n",
    "from sklearn.metrics import confusion_matrix\n",
    "from lib.helper import AccuracyCalculator\n",
    "\n",
    "# Predicting the Test set results\n",
    "y_pred = classifier.predict(X_test)\n",
    "cm = confusion_matrix(y_test, (y_pred > 0.8))\n",
    "\n",
    "AccuracyCalculator.class_accuracy(cm)\n",
    "AccuracyCalculator.optimistic_accuracy(y_pred[:,0], y_test, 100)\n",
    "risk_hist_df = AccuracyCalculator.risk_hist(y_pred[:,0], y_test)\n"
   ]
  },
  {
   "cell_type": "code",
   "execution_count": 23,
   "metadata": {},
   "outputs": [
    {
     "data": {
      "text/plain": [
       "<matplotlib.axes._subplots.AxesSubplot at 0x7fa1f85ef7b8>"
      ]
     },
     "execution_count": 23,
     "metadata": {},
     "output_type": "execute_result"
    },
    {
     "data": {
      "image/png": "[encoded data removed]",
      "text/plain": [
       "<Figure size 432x288 with 1 Axes>"
      ]
     },
     "metadata": {
      "needs_background": "light"
     },
     "output_type": "display_data"
    }
   ],
   "source": [
    "(1-risk_hist_df.risk).plot()"
   ]
  },
  {
   "cell_type": "code",
   "execution_count": 24,
   "metadata": {},
   "outputs": [
    {
     "data": {
      "text/plain": [
       "array([[33019,   221],\n",
       "       [ 2656,  1168]])"
      ]
     },
     "execution_count": 24,
     "metadata": {},
     "output_type": "execute_result"
    }
   ],
   "source": [
    "cm"
   ]
  },
  {
   "cell_type": "code",
   "execution_count": null,
   "metadata": {},
   "outputs": [],
   "source": []
  },
  {
   "cell_type": "code",
   "execution_count": 25,
   "metadata": {},
   "outputs": [
    {
     "name": "stdout",
     "output_type": "stream",
     "text": [
      "real prob 0.7690382829429367 0.8408927285817135 0.6466787001276819\n"
     ]
    }
   ],
   "source": [
    "dfx = df[df['value']]\n",
    "p_f = len(dfx[dfx['value_real']]) / len(dfx)\n",
    "p_r = cm[1,1] / (cm[1,1] + cm[0,1])\n",
    "print('real prob', p_f , p_r, p_f * p_r)"
   ]
  },
  {
   "cell_type": "code",
   "execution_count": 26,
   "metadata": {},
   "outputs": [
    {
     "name": "stdout",
     "output_type": "stream",
     "text": [
      "class_accuracy => accuracy:  0.5174940143109545 risk:  0.2631547422958282\n",
      "optimistic_accuracy => risk:  0.18 min pass point:  0.8916117\n",
      "[[121567   8787]\n",
      " [215677  24604]]\n"
     ]
    },
    {
     "data": {
      "text/plain": [
       "<matplotlib.axes._subplots.AxesSubplot at 0x7fa1f8496358>"
      ]
     },
     "execution_count": 26,
     "metadata": {},
     "output_type": "execute_result"
    },
    {
     "data": {
      "image/png": "[encoded data removed]",
      "text/plain": [
       "<Figure size 432x288 with 1 Axes>"
      ]
     },
     "metadata": {
      "needs_background": "light"
     },
     "output_type": "display_data"
    }
   ],
   "source": [
    "y_all_pred = classifier.predict(sc.transform(X))\n",
    "y_f_price_real = df['value_real']\n",
    "cm = confusion_matrix(y_f_price_real, (y_all_pred > 0.5))\n",
    "\n",
    "AccuracyCalculator.class_accuracy(cm)\n",
    "AccuracyCalculator.optimistic_accuracy(y_all_pred[:,0], y_f_price_real, 100)\n",
    "risk_hist_df = AccuracyCalculator.risk_hist(y_all_pred[:,0], y_f_price_real)\n",
    "\n",
    "print(cm)\n",
    "\n",
    "(1-risk_hist_df.risk).plot()\n",
    "\n"
   ]
  },
  {
   "cell_type": "code",
   "execution_count": 27,
   "metadata": {},
   "outputs": [
    {
     "name": "stdout",
     "output_type": "stream",
     "text": [
      "0.7690382829429367\n",
      "38764\n"
     ]
    },
    {
     "data": {
      "image/png": "[encoded data removed]",
      "text/plain": [
       "<Figure size 432x288 with 1 Axes>"
      ]
     },
     "metadata": {
      "needs_background": "light"
     },
     "output_type": "display_data"
    }
   ],
   "source": [
    "dfr = df[df['value']]\n",
    "dfr['value_real'].astype(int).hist()\n",
    "print(len(dfr[dfr['value_real']]) / (len(dfr)))\n",
    "print(len(dfr['value_real']))"
   ]
  }
 ],
 "metadata": {
  "kernelspec": {
   "display_name": "Python 3",
   "language": "python",
   "name": "python3"
  },
  "language_info": {
   "codemirror_mode": {
    "name": "ipython",
    "version": 3
   },
   "file_extension": ".py",
   "mimetype": "text/x-python",
   "name": "python",
   "nbconvert_exporter": "python",
   "pygments_lexer": "ipython3",
   "version": "3.6.8"
  }
 },
 "nbformat": 4,
 "nbformat_minor": 2
}
