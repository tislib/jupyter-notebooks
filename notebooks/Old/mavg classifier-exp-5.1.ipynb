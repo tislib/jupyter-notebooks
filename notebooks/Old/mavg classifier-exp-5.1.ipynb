{
 "cells": [
  {
   "cell_type": "code",
   "execution_count": 1,
   "metadata": {},
   "outputs": [],
   "source": [
    "import pandas as pd\n",
    "import numpy as np\n",
    "import math\n",
    "import matplotlib.pyplot as plt\n",
    "%matplotlib inline "
   ]
  },
  {
   "cell_type": "code",
   "execution_count": 2,
   "metadata": {},
   "outputs": [],
   "source": [
    "%load_ext autoreload\n",
    "%autoreload 2\n",
    "%run '../main.py'"
   ]
  },
  {
   "cell_type": "code",
   "execution_count": 3,
   "metadata": {},
   "outputs": [
    {
     "data": {
      "text/plain": [
       "370635"
      ]
     },
     "execution_count": 3,
     "metadata": {},
     "output_type": "execute_result"
    }
   ],
   "source": [
    "dataSetOps = DataSetOps()\n",
    "\n",
    "dataSetOps.import_years(2017, 2017)\n",
    "\n",
    "dataSetOps.prepare()\n",
    "\n",
    "\n",
    "df = dataSetOps.df\n",
    "len(df)"
   ]
  },
  {
   "cell_type": "code",
   "execution_count": 8,
   "metadata": {
    "scrolled": true
   },
   "outputs": [
    {
     "name": "stderr",
     "output_type": "stream",
     "text": [
      "/home/taleh/Projects/TensorTradeBase/lib/classifier.py:92: UserWarning: Update your `Dense` call to the Keras 2 API: `Dense(activation=\"relu\", input_dim=8, units=16, kernel_initializer=\"uniform\")`\n",
      "  \n",
      "/home/taleh/Projects/TensorTradeBase/lib/classifier.py:93: UserWarning: Update your `Dense` call to the Keras 2 API: `Dense(activation=\"relu\", units=16, kernel_initializer=\"uniform\")`\n",
      "  class1 = Dense(output_dim=16, init='uniform', activation='relu', input_dim=input_dim)\n",
      "/home/taleh/Projects/TensorTradeBase/lib/classifier.py:99: UserWarning: Update your `Dense` call to the Keras 2 API: `Dense(activation=\"sigmoid\", units=1, kernel_initializer=\"uniform\")`\n",
      "  # Adding the output layer\n"
     ]
    },
    {
     "name": "stdout",
     "output_type": "stream",
     "text": [
      "Epoch 1/10\n",
      "332654/332654 [==============================] - 9s 27us/step - loss: 0.2311 - risk: 0.9999 - risk2: 6.5862e-05 - recall: 9.0184e-05\n",
      "Epoch 2/10\n",
      "332654/332654 [==============================] - 9s 27us/step - loss: 0.2107 - risk: 0.5845 - risk2: 0.1775 - recall: 0.1982\n",
      "Epoch 3/10\n",
      "332654/332654 [==============================] - 9s 27us/step - loss: 0.1843 - risk: 0.3107 - risk2: 0.2985 - recall: 0.4607\n",
      "Epoch 4/10\n",
      "332654/332654 [==============================] - 9s 27us/step - loss: 0.1792 - risk: 0.3006 - risk2: 0.2934 - recall: 0.4900\n",
      "Epoch 5/10\n",
      "332654/332654 [==============================] - 9s 27us/step - loss: 0.1739 - risk: 0.2887 - risk2: 0.2829 - recall: 0.5157\n",
      "Epoch 6/10\n",
      "332654/332654 [==============================] - 10s 29us/step - loss: 0.1697 - risk: 0.2832 - risk2: 0.2773 - recall: 0.5329\n",
      "Epoch 7/10\n",
      "332654/332654 [==============================] - 9s 28us/step - loss: 0.1671 - risk: 0.2784 - risk2: 0.2743 - recall: 0.5439\n",
      "Epoch 8/10\n",
      "332654/332654 [==============================] - 9s 28us/step - loss: 0.1634 - risk: 0.2707 - risk2: 0.2674 - recall: 0.5606\n",
      "Epoch 9/10\n",
      "332654/332654 [==============================] - 9s 27us/step - loss: 0.1607 - risk: 0.2642 - risk2: 0.2608 - recall: 0.5703\n",
      "Epoch 10/10\n",
      "332654/332654 [==============================] - 9s 28us/step - loss: 0.1589 - risk: 0.2603 - risk2: 0.2569 - recall: 0.5791\n",
      "[[19034  4480]\n",
      " [ 4704  8744]]\n",
      "class_accuracy => accuracy:  0.7298417078296338 risk:  0.338777979431337\n",
      "optimistic_accuracy => risk:  0.04 min pass point:  0.92137814\n"
     ]
    },
    {
     "name": "stderr",
     "output_type": "stream",
     "text": [
      "/home/taleh/Projects/TensorTradeBase/lib/classifier.py:60: SettingWithCopyWarning: \n",
      "A value is trying to be set on a copy of a slice from a DataFrame.\n",
      "Try using .loc[row_indexer,col_indexer] = value instead\n",
      "\n",
      "See the caveats in the documentation: http://pandas.pydata.org/pandas-docs/stable/indexing.html#indexing-view-versus-copy\n",
      "  \n",
      "/home/taleh/Projects/TensorTradeBase/lib/classifier.py:61: SettingWithCopyWarning: \n",
      "A value is trying to be set on a copy of a slice from a DataFrame.\n",
      "Try using .loc[row_indexer,col_indexer] = value instead\n",
      "\n",
      "See the caveats in the documentation: http://pandas.pydata.org/pandas-docs/stable/indexing.html#indexing-view-versus-copy\n",
      "  self.df['predict_' + name] = model.predict(sc.transform(X))\n"
     ]
    },
    {
     "data": {
      "text/plain": [
       "<keras.engine.sequential.Sequential at 0x7f0ec48b3828>"
      ]
     },
     "execution_count": 8,
     "metadata": {},
     "output_type": "execute_result"
    },
    {
     "data": {
      "image/png": "[encoded data removed]",
      "text/plain": [
       "<Figure size 432x288 with 1 Axes>"
      ]
     },
     "metadata": {
      "needs_background": "light"
     },
     "output_type": "display_data"
    }
   ],
   "source": [
    "from lib.classifier import MavgComplexClassifier\n",
    "mcc = MavgComplexClassifier(df)\n",
    "\n",
    "mcc.add_feature('mavg30', [10, 20, 30, 50, 80, 100, 1000], 30, epochs=10)"
   ]
  },
  {
   "cell_type": "code",
   "execution_count": null,
   "metadata": {},
   "outputs": [],
   "source": []
  },
  {
   "cell_type": "code",
   "execution_count": null,
   "metadata": {},
   "outputs": [],
   "source": []
  }
 ],
 "metadata": {
  "kernelspec": {
   "display_name": "Python 3",
   "language": "python",
   "name": "python3"
  },
  "language_info": {
   "codemirror_mode": {
    "name": "ipython",
    "version": 3
   },
   "file_extension": ".py",
   "mimetype": "text/x-python",
   "name": "python",
   "nbconvert_exporter": "python",
   "pygments_lexer": "ipython3",
   "version": "3.6.6"
  }
 },
 "nbformat": 4,
 "nbformat_minor": 2
}
